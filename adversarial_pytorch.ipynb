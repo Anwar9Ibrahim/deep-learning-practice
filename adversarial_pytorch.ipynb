{
  "cells": [
    {
      "cell_type": "markdown",
      "metadata": {
        "id": "a8JwPPerSvoh"
      },
      "source": [
        "### Generating human faces with Adversarial Networks (10 points)\n",
        "<img src=\"https://www.strangerdimensions.com/wp-content/uploads/2013/11/reception-robot.jpg\" width=320>\n",
        "This time we'll train a neural net to generate plausible human faces in all their subtlty: appearance, expression, accessories, etc. 'Cuz when us machines gonna take over Earth, there won't be any more faces left. We want to preserve this data for future iterations. Yikes...\n",
        "\n",
        "Based on https://github.com/Lasagne/Recipes/pull/94 .\n"
      ]
    },
    {
      "cell_type": "code",
      "source": [
        "!wget https://raw.githubusercontent.com/yandexdataschool/Practical_DL/fall20/week08_generative/lfw_dataset.py -O lfw_dataset.py"
      ],
      "metadata": {
        "id": "f324rCGoS6Yj",
        "outputId": "2e76dbff-0dd7-4ce1-94ce-ffff8d0a5e94",
        "colab": {
          "base_uri": "https://localhost:8080/"
        }
      },
      "execution_count": 1,
      "outputs": [
        {
          "output_type": "stream",
          "name": "stdout",
          "text": [
            "--2022-12-30 11:08:36--  https://raw.githubusercontent.com/yandexdataschool/Practical_DL/fall20/week08_generative/lfw_dataset.py\n",
            "Resolving raw.githubusercontent.com (raw.githubusercontent.com)... 185.199.108.133, 185.199.109.133, 185.199.111.133, ...\n",
            "Connecting to raw.githubusercontent.com (raw.githubusercontent.com)|185.199.108.133|:443... connected.\n",
            "HTTP request sent, awaiting response... 200 OK\n",
            "Length: 3056 (3.0K) [text/plain]\n",
            "Saving to: ‘lfw_dataset.py’\n",
            "\n",
            "\rlfw_dataset.py        0%[                    ]       0  --.-KB/s               \rlfw_dataset.py      100%[===================>]   2.98K  --.-KB/s    in 0s      \n",
            "\n",
            "2022-12-30 11:08:36 (45.3 MB/s) - ‘lfw_dataset.py’ saved [3056/3056]\n",
            "\n"
          ]
        }
      ]
    },
    {
      "cell_type": "code",
      "execution_count": 2,
      "metadata": {
        "collapsed": true,
        "id": "dCGzhezmSvoo",
        "outputId": "1b1e5677-ef5b-4872-8ca7-f77f3f071ac2",
        "colab": {
          "base_uri": "https://localhost:8080/"
        }
      },
      "outputs": [
        {
          "output_type": "stream",
          "name": "stdout",
          "text": [
            "images not found, donwloading...\n",
            "extracting...\n",
            "done\n",
            "attributes not found, downloading...\n",
            "done\n"
          ]
        }
      ],
      "source": [
        "import matplotlib.pyplot as plt\n",
        "%matplotlib inline\n",
        "import numpy as np\n",
        "plt.rcParams.update({'axes.titlesize': 'small'})\n",
        "\n",
        "from sklearn.datasets import load_digits\n",
        "#The following line fetches you two datasets: images, usable for autoencoder training and attributes.\n",
        "#Those attributes will be required for the final part of the assignment (applying smiles), so please keep them in mind\n",
        "from lfw_dataset import fetch_lfw_dataset\n",
        "data,attrs = fetch_lfw_dataset(dimx=36, dimy=36)\n",
        "\n",
        "#preprocess faces\n",
        "data = np.float32(data).transpose([0,3,1,2]) / 255.\n",
        "\n",
        "IMG_SHAPE = data.shape[1:]"
      ]
    },
    {
      "cell_type": "code",
      "execution_count": 3,
      "metadata": {
        "collapsed": true,
        "id": "Epa-loT5Svor",
        "outputId": "8849928d-cfba-440b-d7c8-04dc08cd2be3",
        "colab": {
          "base_uri": "https://localhost:8080/",
          "height": 283
        }
      },
      "outputs": [
        {
          "output_type": "execute_result",
          "data": {
            "text/plain": [
              "<matplotlib.image.AxesImage at 0x7f78210af2b0>"
            ]
          },
          "metadata": {},
          "execution_count": 3
        },
        {
          "output_type": "display_data",
          "data": {
            "text/plain": [
              "<Figure size 432x288 with 1 Axes>"
            ],
            "image/png": "[encoded data removed]"
          },
          "metadata": {
            "needs_background": "light"
          }
        }
      ],
      "source": [
        "#print random image\n",
        "plt.imshow(data[np.random.randint(data.shape[0])].transpose([1,2,0]),\n",
        "           cmap=\"gray\", interpolation=\"none\")"
      ]
    },
    {
      "cell_type": "markdown",
      "metadata": {
        "id": "C7W4zz83Svos"
      },
      "source": [
        "# Generative adversarial nets 101\n",
        "\n",
        "<img src=\"https://raw.githubusercontent.com/torch/torch.github.io/master/blog/_posts/images/model.png\" width=320px height=240px>\n",
        "\n",
        "Deep learning is simple, isn't it? \n",
        "* build some network that generates the face (small image)\n",
        "* make up a __measure__ of __how good that face is__\n",
        "* optimize with gradient descent :)\n",
        "\n",
        "\n",
        "The only problem is: how can we engineers tell well-generated faces from bad? And i bet you we won't ask a designer for help. \n",
        "\n",
        "__If we can't tell good faces from bad, we delegate it to yet another neural network!__\n",
        "\n",
        "That makes the two of them:\n",
        "* __G__enerator - takes random noize for inspiration and tries to generate a face sample. \n",
        "  * Let's call him __G__(z), where z is a gaussian noize.\n",
        "* __D__iscriminator - takes a face sample and tries to tell if it's great or fake. \n",
        "  * Predicts the probability of input image being a __real face__\n",
        "  * Let's call him __D__(x), x being an image.\n",
        "  * __D(x)__ is a predition for real image and __D(G(z))__ is prediction for the face made by generator.\n",
        "\n",
        "Before we dive into training them, let's construct the two networks."
      ]
    },
    {
      "cell_type": "code",
      "execution_count": 4,
      "metadata": {
        "collapsed": true,
        "id": "PYTgT5SFSvo0",
        "outputId": "845a31d6-46a3-4ea5-c1cf-fdc89d603835",
        "colab": {
          "base_uri": "https://localhost:8080/"
        }
      },
      "outputs": [
        {
          "output_type": "stream",
          "name": "stdout",
          "text": [
            "Torch version: 1.13.0+cu116\n",
            "Using GPU\n"
          ]
        }
      ],
      "source": [
        "import torch, torch.nn as nn\n",
        "import torch.nn.functional as F\n",
        "\n",
        "use_cuda = torch.cuda.is_available()\n",
        "\n",
        "print(\"Torch version:\", torch.__version__)\n",
        "if use_cuda:\n",
        "    print(\"Using GPU\")\n",
        "else:\n",
        "    print(\"Not using GPU\")"
      ]
    },
    {
      "cell_type": "code",
      "execution_count": 5,
      "metadata": {
        "collapsed": true,
        "id": "cD5V_xzZSvo1"
      },
      "outputs": [],
      "source": [
        "def sample_noise_batch(batch_size):\n",
        "    noise = torch.randn(batch_size, CODE_SIZE)\n",
        "    return noise.cuda() if use_cuda else noise.cpu()\n",
        "    \n",
        "class Reshape(nn.Module):\n",
        "    def __init__(self, shape):\n",
        "        nn.Module.__init__(self)\n",
        "        self.shape=shape\n",
        "    def forward(self,input):\n",
        "        return input.view(self.shape)"
      ]
    },
    {
      "cell_type": "code",
      "execution_count": 6,
      "metadata": {
        "collapsed": true,
        "scrolled": false,
        "id": "D1eBCLesSvo2"
      },
      "outputs": [],
      "source": [
        "CODE_SIZE = 256\n",
        "\n",
        "from itertools import count\n",
        "# automatic layer name maker. Don't do this in production :)\n",
        "ix = ('layer_%i'%i for i in count())\n",
        "\n",
        "generator = nn.Sequential()\n",
        "\n",
        "generator.add_module(next(ix), nn.Linear(CODE_SIZE, 10*8*8))\n",
        "generator.add_module(next(ix), nn.ELU())\n",
        "generator.add_module(next(ix), Reshape([-1, 10, 8, 8]))\n",
        "\n",
        "generator.add_module(next(ix), nn.ConvTranspose2d(10, 64, kernel_size=(5,5)))\n",
        "generator.add_module(next(ix), nn.ELU())\n",
        "generator.add_module(next(ix), nn.ConvTranspose2d(64, 64, kernel_size=(5,5)))\n",
        "generator.add_module(next(ix), nn.ELU())\n",
        "generator.add_module(next(ix), nn.Upsample(scale_factor=2))\n",
        "\n",
        "generator.add_module(next(ix), nn.ConvTranspose2d(64, 32, kernel_size=(5,5)))\n",
        "generator.add_module(next(ix), nn.ELU())\n",
        "generator.add_module(next(ix), nn.ConvTranspose2d(32, 32, kernel_size=(5,5)))\n",
        "generator.add_module(next(ix), nn.ELU())\n",
        "\n",
        "generator.add_module(next(ix), nn.Conv2d(32, 3, kernel_size=(5,5)))\n",
        "\n",
        "if use_cuda: generator.cuda()"
      ]
    },
    {
      "cell_type": "code",
      "execution_count": 7,
      "metadata": {
        "collapsed": true,
        "id": "DNBjuTtPSvo3"
      },
      "outputs": [],
      "source": [
        "generated_data = generator(sample_noise_batch(5))\n",
        "assert tuple(generated_data.shape)[1:] == IMG_SHAPE, \"generator must output an image of shape %s, but instead it produces %s\"%(IMG_SHAPE,generated_data.shape)"
      ]
    },
    {
      "cell_type": "markdown",
      "metadata": {
        "id": "4z-EjiRzSvo4"
      },
      "source": [
        "### Discriminator\n",
        "* Discriminator is your usual convolutional network with interlooping convolution and pooling layers\n",
        "* The network does not include dropout/batchnorm to avoid learning complications.\n",
        "* We also regularize the pre-output layer to prevent discriminator from being too certain."
      ]
    },
    {
      "cell_type": "code",
      "execution_count": 16,
      "metadata": {
        "collapsed": true,
        "id": "VBtdE8TESvo4"
      },
      "outputs": [],
      "source": [
        "def sample_data_batch(batch_size):\n",
        "    idxs = np.random.choice(np.arange(data.shape[0]), size=batch_size)\n",
        "    batch = torch.tensor(data[idxs], dtype=torch.float32)\n",
        "    return batch.cuda() if use_cuda else batch.cpu()\n",
        "\n",
        "# a special module that converts [batch, channel, w, h] to [batch, units]\n",
        "class Flatten(nn.Module):\n",
        "    def forward(self, input):\n",
        "        return input.view(input.shape[0], -1)"
      ]
    },
    {
      "cell_type": "code",
      "execution_count": 36,
      "metadata": {
        "collapsed": true,
        "id": "GT3NCQ3ASvo5"
      },
      "outputs": [],
      "source": [
        "discriminator = nn.Sequential()\n",
        "\n",
        "### YOUR CODE - create convolutional architecture for discriminator\n",
        "### Note: please start simple. A few convolutions & poolings would do, inception/resnet is an overkill\n",
        "\n",
        "discriminator.add_module(next(ix), nn.Conv2d(3, 16, kernel_size = 5))\n",
        "discriminator.add_module(next(ix), nn.LeakyReLU(0.1))\n",
        "discriminator.add_module(next(ix), nn.MaxPool2d(2))\n",
        "discriminator.add_module(next(ix), nn.Conv2d(16, 64, kernel_size = 5))\n",
        "discriminator.add_module(next(ix), nn.LeakyReLU(0.1))\n",
        "discriminator.add_module(next(ix), nn.MaxPool2d(2))\n",
        "discriminator.add_module(next(ix), nn.Conv2d(64, 128, kernel_size = 5))\n",
        "discriminator.add_module(next(ix), nn.LeakyReLU(0.1))\n",
        "discriminator.add_module(next(ix), nn.MaxPool2d(2))\n",
        "discriminator.add_module(next(ix), Reshape([-1, 128]))\n",
        "discriminator.add_module(next(ix), nn.Linear(128, 64))\n",
        "discriminator.add_module(next(ix), nn.LeakyReLU(0.1))\n",
        "discriminator.add_module(next(ix), nn.Linear(64, 1))\n",
        "\n",
        "\n",
        "\n",
        "if use_cuda: discriminator.cuda()"
      ]
    },
    {
      "cell_type": "code",
      "execution_count": 37,
      "metadata": {
        "collapsed": true,
        "id": "QtkXT3a0Svo6",
        "outputId": "f75cb0b6-0651-49a6-90bf-f074877b25a2",
        "colab": {
          "base_uri": "https://localhost:8080/"
        }
      },
      "outputs": [
        {
          "output_type": "execute_result",
          "data": {
            "text/plain": [
              "tensor([[-0.0301],\n",
              "        [-0.0273],\n",
              "        [-0.0271],\n",
              "        [-0.0241],\n",
              "        [-0.0273]], device='cuda:0', grad_fn=<AddmmBackward0>)"
            ]
          },
          "metadata": {},
          "execution_count": 37
        }
      ],
      "source": [
        "discriminator(sample_data_batch(5))"
      ]
    },
    {
      "cell_type": "markdown",
      "metadata": {
        "id": "XW-nuVTaSvo6"
      },
      "source": [
        "# Training\n",
        "\n",
        "We train the two networks concurrently:\n",
        "* Train __discriminator__ to better distinguish real data from __current__ generator\n",
        "* Train __generator__ to make discriminator think generator is real\n",
        "* Since discriminator is a differentiable neural network, we train both with gradient descent.\n",
        "\n",
        "![img](https://s24.postimg.org/cw4nognxx/gan.png)\n",
        "\n",
        "Training is done iteratively until discriminator is no longer able to find the difference (or until you run out of patience).\n",
        "\n",
        "\n",
        "### Tricks:\n",
        "* Regularize discriminator output weights to prevent explosion\n",
        "* Train generator with __adam__ to speed up training. Discriminator trains with SGD to avoid problems with momentum.\n",
        "* More: https://github.com/soumith/ganhacks\n"
      ]
    },
    {
      "cell_type": "code",
      "execution_count": 38,
      "metadata": {
        "collapsed": true,
        "id": "vg9uHI6YSvo7"
      },
      "outputs": [],
      "source": [
        "def generator_loss(noise):\n",
        "    \"\"\"\n",
        "    1. generate data given noise\n",
        "    2. compute log P(real | gen noise)\n",
        "    3. return generator loss (should be scalar)\n",
        "    \"\"\"\n",
        "    generated_data =generator(noise) #<generate data given noise>\n",
        "    \n",
        "    disc_on_generated_data = discriminator(generated_data)#<discriminator's opinion on generated data>\n",
        "    \n",
        "    logp_gen_is_real = F.logsigmoid(disc_on_generated_data)\n",
        "    \n",
        "    loss = -1* torch.mean(logp_gen_is_real)#<generator loss. Mind the sign!>\n",
        "    \n",
        "    return loss"
      ]
    },
    {
      "cell_type": "code",
      "execution_count": 39,
      "metadata": {
        "collapsed": true,
        "id": "lnOTw4tfSvo8",
        "outputId": "5018f5ce-84d9-4285-aa1f-6870e14c9b44",
        "colab": {
          "base_uri": "https://localhost:8080/"
        }
      },
      "outputs": [
        {
          "output_type": "stream",
          "name": "stdout",
          "text": [
            "tensor(0.7062, device='cuda:0', grad_fn=<MulBackward0>)\n"
          ]
        }
      ],
      "source": [
        "loss = generator_loss(sample_noise_batch(32))\n",
        "\n",
        "print(loss)\n",
        "\n",
        "assert len(loss.shape) == 0, \"loss must be scalar\""
      ]
    },
    {
      "cell_type": "code",
      "execution_count": 41,
      "metadata": {
        "collapsed": true,
        "id": "Vvskvp5_Svo9"
      },
      "outputs": [],
      "source": [
        "def discriminator_loss(real_data, generated_data):\n",
        "    \"\"\"\n",
        "    1. compute discriminator's output on real & generated data\n",
        "    2. compute log-probabilities of real data being real, generated data being fake\n",
        "    3. return discriminator loss (scalar)\n",
        "    \"\"\"\n",
        "    disc_on_real_data =discriminator(real_data) #<discriminator's prediction on real data>\n",
        "    disc_on_fake_data =discriminator(generated_data)  #<discriminator's prediction on generated data>\n",
        "    \n",
        "    logp_real_is_real = F.logsigmoid(disc_on_real_data)\n",
        "    logp_gen_is_fake = F.logsigmoid(1 - disc_on_fake_data) #<impact of generated data on loss> \n",
        "    \n",
        "    loss =-1* torch.mean( logp_real_is_real + logp_gen_is_fake) #<discriminator loss>\n",
        "    return loss"
      ]
    },
    {
      "cell_type": "code",
      "execution_count": 42,
      "metadata": {
        "collapsed": true,
        "id": "hTAviDyiSvo-",
        "outputId": "46ee11f0-7eed-412e-8fa1-dbc0cf51432f",
        "colab": {
          "base_uri": "https://localhost:8080/"
        }
      },
      "outputs": [
        {
          "output_type": "stream",
          "name": "stdout",
          "text": [
            "tensor(1.0139, device='cuda:0', grad_fn=<MulBackward0>)\n"
          ]
        }
      ],
      "source": [
        "loss = discriminator_loss(sample_data_batch(32), \n",
        "                   generator(sample_noise_batch(32)))\n",
        "\n",
        "print(loss)\n",
        "\n",
        "assert len(loss.shape) == 0, \"loss must be scalar\""
      ]
    },
    {
      "cell_type": "markdown",
      "metadata": {
        "id": "dhvvd1vUSvo_"
      },
      "source": [
        "### Auxilary functions\n",
        "Here we define a few helper functions that draw current data distributions and sample training batches."
      ]
    },
    {
      "cell_type": "code",
      "execution_count": 43,
      "metadata": {
        "collapsed": true,
        "id": "Gxz6tFMuSvpA"
      },
      "outputs": [],
      "source": [
        "def sample_images(nrow, ncol, sharp=False):\n",
        "    images = generator(sample_noise_batch(batch_size=nrow*ncol))\n",
        "    images = images.data.cpu().numpy().transpose([0, 2, 3, 1])\n",
        "    if np.var(images)!=0:\n",
        "        images = images.clip(np.min(data),np.max(data))\n",
        "    for i in range(nrow*ncol):\n",
        "        plt.subplot(nrow,ncol,i+1)\n",
        "        if sharp:\n",
        "            plt.imshow(images[i], cmap=\"gray\", interpolation=\"none\")\n",
        "        else:\n",
        "            plt.imshow(images[i], cmap=\"gray\")\n",
        "    plt.show()\n",
        "\n",
        "def sample_probas(batch_size):\n",
        "    plt.title('Generated vs real data')\n",
        "    D_real = F.sigmoid(discriminator(sample_data_batch(batch_size)))\n",
        "    generated_data_batch = generator(sample_noise_batch(batch_size))\n",
        "    D_fake = F.sigmoid(discriminator(generated_data_batch))\n",
        "    \n",
        "    plt.hist(D_real.data.cpu().numpy(),\n",
        "             label='D(x)', alpha=0.5, range=[0,1])\n",
        "    plt.hist(D_fake.data.cpu().numpy(),\n",
        "             label='D(G(z))', alpha=0.5, range=[0,1])\n",
        "    plt.legend(loc='best')\n",
        "    plt.show()"
      ]
    },
    {
      "cell_type": "markdown",
      "metadata": {
        "id": "yQjqWWXQSvpC"
      },
      "source": [
        "### Training\n",
        "Main loop.\n",
        "We just train generator and discriminator in a loop and draw results once every N iterations."
      ]
    },
    {
      "cell_type": "code",
      "execution_count": 44,
      "metadata": {
        "collapsed": true,
        "id": "G-QdwdfDSvpD"
      },
      "outputs": [],
      "source": [
        "#optimizers\n",
        "disc_opt = torch.optim.SGD(discriminator.parameters(), lr=5e-3)\n",
        "gen_opt = torch.optim.Adam(generator.parameters(), lr=1e-4)"
      ]
    },
    {
      "cell_type": "code",
      "execution_count": null,
      "metadata": {
        "collapsed": true,
        "scrolled": true,
        "id": "rEiIwm0JSvpD",
        "outputId": "d8336b2a-7524-45c0-d596-0eaf6e080672",
        "colab": {
          "base_uri": "https://localhost:8080/",
          "height": 268,
          "referenced_widgets": [
            "207a7d545ec04ed58666c5c3a08fe3d3",
            "fe87883df0a04a13bc14feb6db9351fa",
            "5024bf29b930408690abd943dce3920f",
            "b7584297d68243a0b6326fda8011db28",
            "797fc67621fc485d80e54be5007d6985",
            "0a6166042d924fbeab58e719b88bb9c1",
            "4f4f8db250b8431db92b61d6b6170e68",
            "3ad61fab51ea41c5b40f57ec526e0caf",
            "b3b86bdb08dc48c7bbf6767dcadde78d",
            "f567dff5a39f4ea58f4713a1283fb628",
            "b68b9c788d694df9ad142bfa94af013a"
          ]
        }
      },
      "outputs": [
        {
          "output_type": "display_data",
          "data": {
            "text/plain": [
              "<Figure size 432x288 with 6 Axes>"
            ],
            "image/png": "[encoded data removed]"
          },
          "metadata": {
            "needs_background": "light"
          }
        }
      ],
      "source": [
        "from IPython import display\n",
        "from tqdm import tnrange\n",
        "batch_size = 100\n",
        "\n",
        "for epoch in tnrange(50000):\n",
        "    \n",
        "    # Train discriminator\n",
        "    for i in range(5):\n",
        "        real_data = sample_data_batch(batch_size)\n",
        "        fake_data = generator(sample_noise_batch(batch_size))\n",
        "        loss = discriminator_loss(real_data, fake_data)\n",
        "        disc_opt.zero_grad()\n",
        "        loss.backward()\n",
        "        disc_opt.step()\n",
        "        \n",
        "    # Train generator\n",
        "    noise = sample_noise_batch(batch_size)\n",
        "    loss = generator_loss(noise)\n",
        "    gen_opt.zero_grad()\n",
        "    loss.backward()\n",
        "    gen_opt.step()\n",
        "    \n",
        "    if epoch %100==0:\n",
        "        display.clear_output(wait=True)\n",
        "        sample_images(2,3,True)\n",
        "        sample_probas(1000)\n",
        "        "
      ]
    },
    {
      "cell_type": "code",
      "execution_count": null,
      "metadata": {
        "collapsed": true,
        "scrolled": false,
        "id": "GpLpe_PpSvpE"
      },
      "outputs": [],
      "source": [
        "plt.figure(figsize=[16, 24])\n",
        "sample_images(16, 8)\n",
        "\n",
        "# Note: a no-nonsense neural network should be able to produce reasonably good images after 15k iterations\n",
        "# By \"reasonably good\" we mean \"resembling a car crash victim\" or better"
      ]
    },
    {
      "cell_type": "markdown",
      "metadata": {
        "id": "j4aRdNU0SvpF"
      },
      "source": [
        "### Evaluation\n",
        "__The code below__ dumps a batch of images so that you could use them for precision/recall evaluation.\n",
        "\n",
        "Please, if you want to compare the result with the autoencoder result, generate the same number of images as for autoencoders for a fair comparison."
      ]
    },
    {
      "cell_type": "code",
      "execution_count": null,
      "metadata": {
        "id": "8Ocmkyt7SvpG"
      },
      "outputs": [],
      "source": [
        "num_images = 10#<YOUR CODE>\n",
        "batch_size = 100\n",
        "\n",
        "all_images = []\n",
        "\n",
        "for batch_i in range((num_images - 1) / batch_size + 1):\n",
        "    with torch.no_grad():\n",
        "        images = generator(sample_noise_batch(batch_size=batch_size))\n",
        "        images = images.data.cpu().numpy().transpose([0, 2, 3, 1])\n",
        "    if np.var(images)!=0:\n",
        "        images = images.clip(np.min(data), np.max(data))\n",
        "        \n",
        "    all_images.append(images)\n",
        "    \n",
        "all_images = np.concatenate(all_images, axis=0)[:num_images]\n",
        "\n",
        "np.savez(\"./gan.npz\", Pictures=all_images)"
      ]
    },
    {
      "cell_type": "code",
      "source": [],
      "metadata": {
        "id": "quA97sM40rvE"
      },
      "execution_count": null,
      "outputs": []
    }
  ],
  "metadata": {
    "anaconda-cloud": {},
    "kernelspec": {
      "display_name": "Python 3",
      "language": "python",
      "name": "python3"
    },
    "language_info": {
      "codemirror_mode": {
        "name": "ipython",
        "version": 3
      },
      "file_extension": ".py",
      "mimetype": "text/x-python",
      "name": "python",
      "nbconvert_exporter": "python",
      "pygments_lexer": "ipython3",
      "version": "3.8.8"
    },
    "colab": {
      "provenance": []
    },
    "accelerator": "GPU",
    "gpuClass": "standard",
    "widgets": {
      "application/vnd.jupyter.widget-state+json": {
        "207a7d545ec04ed58666c5c3a08fe3d3": {
          "model_module": "@jupyter-widgets/controls",
          "model_name": "HBoxModel",
          "model_module_version": "1.5.0",
          "state": {
            "_dom_classes": [],
            "_model_module": "@jupyter-widgets/controls",
            "_model_module_version": "1.5.0",
            "_model_name": "HBoxModel",
            "_view_count": null,
            "_view_module": "@jupyter-widgets/controls",
            "_view_module_version": "1.5.0",
            "_view_name": "HBoxView",
            "box_style": "",
            "children": [
              "IPY_MODEL_fe87883df0a04a13bc14feb6db9351fa",
              "IPY_MODEL_5024bf29b930408690abd943dce3920f",
              "IPY_MODEL_b7584297d68243a0b6326fda8011db28"
            ],
            "layout": "IPY_MODEL_797fc67621fc485d80e54be5007d6985"
          }
        },
        "fe87883df0a04a13bc14feb6db9351fa": {
          "model_module": "@jupyter-widgets/controls",
          "model_name": "HTMLModel",
          "model_module_version": "1.5.0",
          "state": {
            "_dom_classes": [],
            "_model_module": "@jupyter-widgets/controls",
            "_model_module_version": "1.5.0",
            "_model_name": "HTMLModel",
            "_view_count": null,
            "_view_module": "@jupyter-widgets/controls",
            "_view_module_version": "1.5.0",
            "_view_name": "HTMLView",
            "description": "",
            "description_tooltip": null,
            "layout": "IPY_MODEL_0a6166042d924fbeab58e719b88bb9c1",
            "placeholder": "​",
            "style": "IPY_MODEL_4f4f8db250b8431db92b61d6b6170e68",
            "value": " 66%"
          }
        },
        "5024bf29b930408690abd943dce3920f": {
          "model_module": "@jupyter-widgets/controls",
          "model_name": "FloatProgressModel",
          "model_module_version": "1.5.0",
          "state": {
            "_dom_classes": [],
            "_model_module": "@jupyter-widgets/controls",
            "_model_module_version": "1.5.0",
            "_model_name": "FloatProgressModel",
            "_view_count": null,
            "_view_module": "@jupyter-widgets/controls",
            "_view_module_version": "1.5.0",
            "_view_name": "ProgressView",
            "bar_style": "",
            "description": "",
            "description_tooltip": null,
            "layout": "IPY_MODEL_3ad61fab51ea41c5b40f57ec526e0caf",
            "max": 50000,
            "min": 0,
            "orientation": "horizontal",
            "style": "IPY_MODEL_b3b86bdb08dc48c7bbf6767dcadde78d",
            "value": 33100
          }
        },
        "b7584297d68243a0b6326fda8011db28": {
          "model_module": "@jupyter-widgets/controls",
          "model_name": "HTMLModel",
          "model_module_version": "1.5.0",
          "state": {
            "_dom_classes": [],
            "_model_module": "@jupyter-widgets/controls",
            "_model_module_version": "1.5.0",
            "_model_name": "HTMLModel",
            "_view_count": null,
            "_view_module": "@jupyter-widgets/controls",
            "_view_module_version": "1.5.0",
            "_view_name": "HTMLView",
            "description": "",
            "description_tooltip": null,
            "layout": "IPY_MODEL_f567dff5a39f4ea58f4713a1283fb628",
            "placeholder": "​",
            "style": "IPY_MODEL_b68b9c788d694df9ad142bfa94af013a",
            "value": " 33100/50000 [2:00:06&lt;59:19,  4.75it/s]"
          }
        },
        "797fc67621fc485d80e54be5007d6985": {
          "model_module": "@jupyter-widgets/base",
          "model_name": "LayoutModel",
          "model_module_version": "1.2.0",
          "state": {
            "_model_module": "@jupyter-widgets/base",
            "_model_module_version": "1.2.0",
            "_model_name": "LayoutModel",
            "_view_count": null,
            "_view_module": "@jupyter-widgets/base",
            "_view_module_version": "1.2.0",
            "_view_name": "LayoutView",
            "align_content": null,
            "align_items": null,
            "align_self": null,
            "border": null,
            "bottom": null,
            "display": null,
            "flex": null,
            "flex_flow": null,
            "grid_area": null,
            "grid_auto_columns": null,
            "grid_auto_flow": null,
            "grid_auto_rows": null,
            "grid_column": null,
            "grid_gap": null,
            "grid_row": null,
            "grid_template_areas": null,
            "grid_template_columns": null,
            "grid_template_rows": null,
            "height": null,
            "justify_content": null,
            "justify_items": null,
            "left": null,
            "margin": null,
            "max_height": null,
            "max_width": null,
            "min_height": null,
            "min_width": null,
            "object_fit": null,
            "object_position": null,
            "order": null,
            "overflow": null,
            "overflow_x": null,
            "overflow_y": null,
            "padding": null,
            "right": null,
            "top": null,
            "visibility": null,
            "width": null
          }
        },
        "0a6166042d924fbeab58e719b88bb9c1": {
          "model_module": "@jupyter-widgets/base",
          "model_name": "LayoutModel",
          "model_module_version": "1.2.0",
          "state": {
            "_model_module": "@jupyter-widgets/base",
            "_model_module_version": "1.2.0",
            "_model_name": "LayoutModel",
            "_view_count": null,
            "_view_module": "@jupyter-widgets/base",
            "_view_module_version": "1.2.0",
            "_view_name": "LayoutView",
            "align_content": null,
            "align_items": null,
            "align_self": null,
            "border": null,
            "bottom": null,
            "display": null,
            "flex": null,
            "flex_flow": null,
            "grid_area": null,
            "grid_auto_columns": null,
            "grid_auto_flow": null,
            "grid_auto_rows": null,
            "grid_column": null,
            "grid_gap": null,
            "grid_row": null,
            "grid_template_areas": null,
            "grid_template_columns": null,
            "grid_template_rows": null,
            "height": null,
            "justify_content": null,
            "justify_items": null,
            "left": null,
            "margin": null,
            "max_height": null,
            "max_width": null,
            "min_height": null,
            "min_width": null,
            "object_fit": null,
            "object_position": null,
            "order": null,
            "overflow": null,
            "overflow_x": null,
            "overflow_y": null,
            "padding": null,
            "right": null,
            "top": null,
            "visibility": null,
            "width": null
          }
        },
        "4f4f8db250b8431db92b61d6b6170e68": {
          "model_module": "@jupyter-widgets/controls",
          "model_name": "DescriptionStyleModel",
          "model_module_version": "1.5.0",
          "state": {
            "_model_module": "@jupyter-widgets/controls",
            "_model_module_version": "1.5.0",
            "_model_name": "DescriptionStyleModel",
            "_view_count": null,
            "_view_module": "@jupyter-widgets/base",
            "_view_module_version": "1.2.0",
            "_view_name": "StyleView",
            "description_width": ""
          }
        },
        "3ad61fab51ea41c5b40f57ec526e0caf": {
          "model_module": "@jupyter-widgets/base",
          "model_name": "LayoutModel",
          "model_module_version": "1.2.0",
          "state": {
            "_model_module": "@jupyter-widgets/base",
            "_model_module_version": "1.2.0",
            "_model_name": "LayoutModel",
            "_view_count": null,
            "_view_module": "@jupyter-widgets/base",
            "_view_module_version": "1.2.0",
            "_view_name": "LayoutView",
            "align_content": null,
            "align_items": null,
            "align_self": null,
            "border": null,
            "bottom": null,
            "display": null,
            "flex": null,
            "flex_flow": null,
            "grid_area": null,
            "grid_auto_columns": null,
            "grid_auto_flow": null,
            "grid_auto_rows": null,
            "grid_column": null,
            "grid_gap": null,
            "grid_row": null,
            "grid_template_areas": null,
            "grid_template_columns": null,
            "grid_template_rows": null,
            "height": null,
            "justify_content": null,
            "justify_items": null,
            "left": null,
            "margin": null,
            "max_height": null,
            "max_width": null,
            "min_height": null,
            "min_width": null,
            "object_fit": null,
            "object_position": null,
            "order": null,
            "overflow": null,
            "overflow_x": null,
            "overflow_y": null,
            "padding": null,
            "right": null,
            "top": null,
            "visibility": null,
            "width": null
          }
        },
        "b3b86bdb08dc48c7bbf6767dcadde78d": {
          "model_module": "@jupyter-widgets/controls",
          "model_name": "ProgressStyleModel",
          "model_module_version": "1.5.0",
          "state": {
            "_model_module": "@jupyter-widgets/controls",
            "_model_module_version": "1.5.0",
            "_model_name": "ProgressStyleModel",
            "_view_count": null,
            "_view_module": "@jupyter-widgets/base",
            "_view_module_version": "1.2.0",
            "_view_name": "StyleView",
            "bar_color": null,
            "description_width": ""
          }
        },
        "f567dff5a39f4ea58f4713a1283fb628": {
          "model_module": "@jupyter-widgets/base",
          "model_name": "LayoutModel",
          "model_module_version": "1.2.0",
          "state": {
            "_model_module": "@jupyter-widgets/base",
            "_model_module_version": "1.2.0",
            "_model_name": "LayoutModel",
            "_view_count": null,
            "_view_module": "@jupyter-widgets/base",
            "_view_module_version": "1.2.0",
            "_view_name": "LayoutView",
            "align_content": null,
            "align_items": null,
            "align_self": null,
            "border": null,
            "bottom": null,
            "display": null,
            "flex": null,
            "flex_flow": null,
            "grid_area": null,
            "grid_auto_columns": null,
            "grid_auto_flow": null,
            "grid_auto_rows": null,
            "grid_column": null,
            "grid_gap": null,
            "grid_row": null,
            "grid_template_areas": null,
            "grid_template_columns": null,
            "grid_template_rows": null,
            "height": null,
            "justify_content": null,
            "justify_items": null,
            "left": null,
            "margin": null,
            "max_height": null,
            "max_width": null,
            "min_height": null,
            "min_width": null,
            "object_fit": null,
            "object_position": null,
            "order": null,
            "overflow": null,
            "overflow_x": null,
            "overflow_y": null,
            "padding": null,
            "right": null,
            "top": null,
            "visibility": null,
            "width": null
          }
        },
        "b68b9c788d694df9ad142bfa94af013a": {
          "model_module": "@jupyter-widgets/controls",
          "model_name": "DescriptionStyleModel",
          "model_module_version": "1.5.0",
          "state": {
            "_model_module": "@jupyter-widgets/controls",
            "_model_module_version": "1.5.0",
            "_model_name": "DescriptionStyleModel",
            "_view_count": null,
            "_view_module": "@jupyter-widgets/base",
            "_view_module_version": "1.2.0",
            "_view_name": "StyleView",
            "description_width": ""
          }
        }
      }
    }
  },
  "nbformat": 4,
  "nbformat_minor": 0
}